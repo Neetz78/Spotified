{
 "cells": [
  {
   "cell_type": "markdown",
   "id": "feb2dae2-8d95-4271-9adf-1d17f035dc35",
   "metadata": {},
   "source": [
    "# Code used to wrangle the data and save it into smaller CSV files to save on interactive computation time:"
   ]
  },
  {
   "cell_type": "code",
   "execution_count": 1,
   "id": "7817a14c-2603-49df-94b5-91c2ea724698",
   "metadata": {},
   "outputs": [],
   "source": [
    "import pandas as pd"
   ]
  },
  {
   "cell_type": "markdown",
   "id": "81559f84-598c-42ac-aacf-eae1dcf90e6e",
   "metadata": {
    "tags": []
   },
   "source": [
    "## Function to retrieve the Spotify data from Github:"
   ]
  },
  {
   "cell_type": "code",
   "execution_count": 2,
   "id": "fbfe9b47-05bc-4ed7-a6cc-26d7920671ce",
   "metadata": {},
   "outputs": [],
   "source": [
    "def getSpotifyData():\n",
    "    \"\"\"Retrieves Spotify data from Github and performs the necessary wrangling. \n",
    "    Returns:\n",
    "        pandas.DataFranme: A pandas data frame with the wrangle spotify data. \n",
    "    \"\"\"    \n",
    "    data = pd.read_csv('https://raw.githubusercontent.com/rfordatascience/tidytuesday/master/data/2020/2020-01-21/spotify_songs.csv')\n",
    "    data = data.dropna()\n",
    "    data = data.drop(['track_id', 'track_album_id', 'playlist_id'], axis=1)\n",
    "    data.columns = [\"Name\", \"Artist\", \"Popularity\", \"Album Name\", \"Album Release Date\", \"Playlist Name\", \n",
    "                \"Playlist Genre\", \"Playlist Subgenre\", \"Danceability\", \n",
    "               \"Energy\", \"Key\", \"Loudness\", \"Mode\", \"Speechiness\", \n",
    "               \"Acousticness\", \"Instrumentalness\", \"Liveness\", \"Valence\", \n",
    "              \"Tempo\", \"Duration\"]\n",
    "    data['Playlist Genre'] = data['Playlist Genre'].str.title()\n",
    "    data['Playlist Subgenre'] = data['Playlist Subgenre'].str.title()\n",
    "    mode = {1 : 'Major', 0:'Minor'}\n",
    "    key = {0 : 'C', 1:'C#', 2: 'D', 3:'D#', 4: 'E', 5:'F', 6: 'F#', 7:'G', \n",
    "           8: 'G#', 9:'A', 10: 'Bb', 11:'B'}\n",
    "    data.replace({\"Mode\":mode}, inplace = True)\n",
    "    data.replace({\"Key\":key}, inplace = True)\n",
    "    data['Album Release Date'] =  pd.to_datetime(data['Album Release Date'], format='%Y-%m-%d')\n",
    "    data['Year'] = data['Album Release Date'].apply(lambda x: x.year)\n",
    "    data = data.drop([\"Album Release Date\", \"Playlist Name\", \"Danceability\", \n",
    "               \"Energy\", \"Key\", \"Loudness\", \"Mode\", \"Speechiness\", \n",
    "               \"Acousticness\", \"Instrumentalness\", \"Liveness\", \"Valence\", \n",
    "              \"Tempo\", \"Duration\"], axis = 1)\n",
    "    return data"
   ]
  },
  {
   "cell_type": "code",
   "execution_count": 3,
   "id": "369fd57e-f4cb-42b1-ba3e-81cfdf6092c8",
   "metadata": {},
   "outputs": [],
   "source": [
    "data = getSpotifyData()"
   ]
  },
  {
   "cell_type": "markdown",
   "id": "819e77d4-2ea8-40da-9ad4-9f2d1cbbe7cd",
   "metadata": {},
   "source": [
    "## Compute top 10 songs for every genre and year:"
   ]
  },
  {
   "cell_type": "code",
   "execution_count": 4,
   "id": "008ac40e-b318-4805-8a70-ee9e9100531e",
   "metadata": {},
   "outputs": [],
   "source": [
    "#Some songs appear multiple times, so average their popularity together. \n",
    "data_subset=data.groupby([\"Name\", \"Artist\"]).mean()\n",
    "new_df = pd.DataFrame()\n",
    "#Get the top 10 songs for each genre and year. \n",
    "for genre in data[\"Playlist Genre\"].unique():\n",
    "    for year in data[\"Year\"].unique():\n",
    "        new = data.loc[(data[\"Year\"] == year) & (data[\"Playlist Genre\"] == genre)]\n",
    "        data_subset=new.groupby([\"Name\", \"Artist\", \"Playlist Genre\", \"Year\"]).mean()\n",
    "        data_subset = data_subset.reset_index()\n",
    "        top10=data_subset.nlargest(10,'Popularity')\n",
    "        new_df = new_df.append(top10)\n",
    "#Save the results into a new csv file. \n",
    "new_df.to_csv(\"top_songs.csv\", sep = \"\\t\", index = False)"
   ]
  },
  {
   "cell_type": "markdown",
   "id": "d40aebf9-a200-4072-9a2e-60b971b6ff05",
   "metadata": {},
   "source": [
    "## Compute top 10 artists for every genre and year:"
   ]
  },
  {
   "cell_type": "code",
   "execution_count": 5,
   "id": "b6919c5a-8f6a-4efd-9645-4a6f91fea90f",
   "metadata": {},
   "outputs": [],
   "source": [
    "new_df = pd.DataFrame()\n",
    "#Find the top 10 for each genre and year, append to the new data frame. \n",
    "for genre in data[\"Playlist Genre\"].unique():\n",
    "    for year in data[\"Year\"].unique():\n",
    "        new = data.loc[(data[\"Year\"] == year) & (data[\"Playlist Genre\"] == genre)]\n",
    "        data_subset=new.groupby([\"Artist\", \"Playlist Genre\", \"Year\"]).mean()\n",
    "        data_subset = data_subset.reset_index()\n",
    "        top10=data_subset.nlargest(10,'Popularity')\n",
    "        new_df = new_df.append(top10)\n",
    "#Save the results to a new csv file. \n",
    "new_df.to_csv(\"top_artists.csv\", sep = \"\\t\", index = False)"
   ]
  },
  {
   "cell_type": "markdown",
   "id": "61eb12c2-c036-4ed2-8ee7-89e2d7d02196",
   "metadata": {},
   "source": [
    "## Compute the mean popularity and number of songs released for each genre, subgenre, and year:"
   ]
  },
  {
   "cell_type": "code",
   "execution_count": 6,
   "id": "eaff9b44-c54f-40c9-8821-2ded980eff7e",
   "metadata": {},
   "outputs": [],
   "source": [
    "#Compute the number of records and popularity for each genre, subgenre, and year. \n",
    "counts = data.groupby([\"Year\", \"Playlist Genre\", \"Playlist Subgenre\"], as_index = False).size()\n",
    "counts[\"Mean Popularity\"] = (data.groupby([\"Year\", \"Playlist Genre\", \"Playlist Subgenre\"], as_index = False).mean(\"Popularity\"))[\"Popularity\"]\n",
    "counts = counts.rename(columns={\"size\": \"Number of Songs\"})\n",
    "#Save to a new CSV. \n",
    "counts.to_csv(\"by_genres.csv\", sep = \"\\t\", index = False)"
   ]
  }
 ],
 "metadata": {
  "kernelspec": {
   "display_name": "Python 3 (ipykernel)",
   "language": "python",
   "name": "python3"
  },
  "language_info": {
   "codemirror_mode": {
    "name": "ipython",
    "version": 3
   },
   "file_extension": ".py",
   "mimetype": "text/x-python",
   "name": "python",
   "nbconvert_exporter": "python",
   "pygments_lexer": "ipython3",
   "version": "3.9.9"
  }
 },
 "nbformat": 4,
 "nbformat_minor": 5
}
